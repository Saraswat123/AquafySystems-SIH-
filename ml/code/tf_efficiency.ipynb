{
 "cells": [
  {
   "cell_type": "code",
   "execution_count": 2,
   "metadata": {},
   "outputs": [],
   "source": [
    "import tensorflow as tf\n",
    "from sklearn.model_selection import train_test_split\n",
    "import numpy as np\n",
    "import pandas as pd"
   ]
  },
  {
   "cell_type": "code",
   "execution_count": 3,
   "metadata": {},
   "outputs": [],
   "source": [
    "df = pd.read_csv('grey_water_management.csv')"
   ]
  },
  {
   "cell_type": "code",
   "execution_count": 4,
   "metadata": {},
   "outputs": [],
   "source": [
    "X = df[['TDS (mg/l)', 'Turbidity (NTU)', 'pH', 'Depth (m)', 'Flow Discharge (L/min)']].values\n",
    "y = df['Filter Efficiency (%)'].values"
   ]
  },
  {
   "cell_type": "code",
   "execution_count": 5,
   "metadata": {},
   "outputs": [],
   "source": [
    "X_train, X_test, y_train, y_test = train_test_split(X, y, test_size=0.2, random_state=42)"
   ]
  },
  {
   "cell_type": "code",
   "execution_count": 6,
   "metadata": {},
   "outputs": [
    {
     "name": "stdout",
     "output_type": "stream",
     "text": [
      "WARNING:tensorflow:From C:\\Users\\RYZEN-5\\AppData\\Roaming\\Python\\Python311\\site-packages\\keras\\src\\backend.py:873: The name tf.get_default_graph is deprecated. Please use tf.compat.v1.get_default_graph instead.\n",
      "\n"
     ]
    }
   ],
   "source": [
    "model = tf.keras.Sequential([\n",
    "    tf.keras.layers.Dense(64, activation='relu', input_shape=(X_train.shape[1],)),\n",
    "    tf.keras.layers.Dense(64, activation='relu'),  \n",
    "    tf.keras.layers.Dense(1)  \n",
    "])"
   ]
  },
  {
   "cell_type": "code",
   "execution_count": 7,
   "metadata": {},
   "outputs": [
    {
     "name": "stdout",
     "output_type": "stream",
     "text": [
      "WARNING:tensorflow:From C:\\Users\\RYZEN-5\\AppData\\Roaming\\Python\\Python311\\site-packages\\keras\\src\\optimizers\\__init__.py:309: The name tf.train.Optimizer is deprecated. Please use tf.compat.v1.train.Optimizer instead.\n",
      "\n"
     ]
    }
   ],
   "source": [
    "model.compile(optimizer='adam', loss='mean_squared_error')"
   ]
  },
  {
   "cell_type": "code",
   "execution_count": 8,
   "metadata": {},
   "outputs": [
    {
     "name": "stdout",
     "output_type": "stream",
     "text": [
      "Epoch 1/100\n",
      "WARNING:tensorflow:From C:\\Users\\RYZEN-5\\AppData\\Roaming\\Python\\Python311\\site-packages\\keras\\src\\utils\\tf_utils.py:492: The name tf.ragged.RaggedTensorValue is deprecated. Please use tf.compat.v1.ragged.RaggedTensorValue instead.\n",
      "\n",
      "41/41 [==============================] - 4s 28ms/step - loss: 1651.4871 - val_loss: 1167.4336\n",
      "Epoch 2/100\n",
      "41/41 [==============================] - 0s 8ms/step - loss: 927.6277 - val_loss: 889.0299\n",
      "Epoch 3/100\n",
      "41/41 [==============================] - 0s 7ms/step - loss: 730.6947 - val_loss: 729.7864\n",
      "Epoch 4/100\n",
      "41/41 [==============================] - 0s 6ms/step - loss: 564.9990 - val_loss: 522.4333\n",
      "Epoch 5/100\n",
      "41/41 [==============================] - 0s 6ms/step - loss: 397.4063 - val_loss: 375.6396\n",
      "Epoch 6/100\n",
      "41/41 [==============================] - 0s 7ms/step - loss: 276.1972 - val_loss: 267.3139\n",
      "Epoch 7/100\n",
      "41/41 [==============================] - 0s 7ms/step - loss: 199.6159 - val_loss: 183.3362\n",
      "Epoch 8/100\n",
      "41/41 [==============================] - 0s 7ms/step - loss: 156.9677 - val_loss: 160.2353\n",
      "Epoch 9/100\n",
      "41/41 [==============================] - 0s 8ms/step - loss: 126.9011 - val_loss: 116.3512\n",
      "Epoch 10/100\n",
      "41/41 [==============================] - 0s 7ms/step - loss: 105.0310 - val_loss: 94.8331\n",
      "Epoch 11/100\n",
      "41/41 [==============================] - 0s 7ms/step - loss: 87.0164 - val_loss: 101.0970\n",
      "Epoch 12/100\n",
      "41/41 [==============================] - 0s 6ms/step - loss: 76.7853 - val_loss: 75.6024\n",
      "Epoch 13/100\n",
      "41/41 [==============================] - 0s 6ms/step - loss: 68.0908 - val_loss: 67.3017\n",
      "Epoch 14/100\n",
      "41/41 [==============================] - 0s 6ms/step - loss: 61.3129 - val_loss: 61.5075\n",
      "Epoch 15/100\n",
      "41/41 [==============================] - 0s 6ms/step - loss: 57.5272 - val_loss: 59.0505\n",
      "Epoch 16/100\n",
      "41/41 [==============================] - 0s 7ms/step - loss: 55.6966 - val_loss: 75.6425\n",
      "Epoch 17/100\n",
      "41/41 [==============================] - 0s 6ms/step - loss: 53.8500 - val_loss: 65.8591\n",
      "Epoch 18/100\n",
      "41/41 [==============================] - 0s 6ms/step - loss: 55.6174 - val_loss: 85.7473\n",
      "Epoch 19/100\n",
      "41/41 [==============================] - 0s 6ms/step - loss: 60.8462 - val_loss: 61.4952\n",
      "Epoch 20/100\n",
      "41/41 [==============================] - 0s 6ms/step - loss: 54.0602 - val_loss: 63.2358\n",
      "Epoch 21/100\n",
      "41/41 [==============================] - 0s 6ms/step - loss: 50.0756 - val_loss: 54.2940\n",
      "Epoch 22/100\n",
      "41/41 [==============================] - 0s 6ms/step - loss: 50.7327 - val_loss: 58.9985\n",
      "Epoch 23/100\n",
      "41/41 [==============================] - 0s 6ms/step - loss: 52.9921 - val_loss: 63.6982\n",
      "Epoch 24/100\n",
      "41/41 [==============================] - 0s 6ms/step - loss: 62.3744 - val_loss: 78.8725\n",
      "Epoch 25/100\n",
      "41/41 [==============================] - 0s 7ms/step - loss: 51.9924 - val_loss: 53.9460\n",
      "Epoch 26/100\n",
      "41/41 [==============================] - 0s 6ms/step - loss: 47.8151 - val_loss: 53.7074\n",
      "Epoch 27/100\n",
      "41/41 [==============================] - 0s 6ms/step - loss: 49.5166 - val_loss: 51.9103\n",
      "Epoch 28/100\n",
      "41/41 [==============================] - 0s 8ms/step - loss: 44.9641 - val_loss: 57.9708\n",
      "Epoch 29/100\n",
      "41/41 [==============================] - 0s 6ms/step - loss: 48.3528 - val_loss: 74.9080\n",
      "Epoch 30/100\n",
      "41/41 [==============================] - 0s 6ms/step - loss: 53.2639 - val_loss: 52.4796\n",
      "Epoch 31/100\n",
      "41/41 [==============================] - 0s 6ms/step - loss: 45.6043 - val_loss: 53.3109\n",
      "Epoch 32/100\n",
      "41/41 [==============================] - 0s 6ms/step - loss: 45.9766 - val_loss: 53.8957\n",
      "Epoch 33/100\n",
      "41/41 [==============================] - 0s 6ms/step - loss: 46.2096 - val_loss: 50.5330\n",
      "Epoch 34/100\n",
      "41/41 [==============================] - 0s 6ms/step - loss: 46.1624 - val_loss: 49.4767\n",
      "Epoch 35/100\n",
      "41/41 [==============================] - 0s 6ms/step - loss: 44.2987 - val_loss: 70.3995\n",
      "Epoch 36/100\n",
      "41/41 [==============================] - 0s 6ms/step - loss: 47.6881 - val_loss: 51.4088\n",
      "Epoch 37/100\n",
      "41/41 [==============================] - 0s 7ms/step - loss: 46.4697 - val_loss: 58.1452\n",
      "Epoch 38/100\n",
      "41/41 [==============================] - 0s 7ms/step - loss: 43.2529 - val_loss: 52.1845\n",
      "Epoch 39/100\n",
      "41/41 [==============================] - 0s 7ms/step - loss: 46.4147 - val_loss: 51.0451\n",
      "Epoch 40/100\n",
      "41/41 [==============================] - 0s 6ms/step - loss: 44.3965 - val_loss: 48.0569\n",
      "Epoch 41/100\n",
      "41/41 [==============================] - 0s 6ms/step - loss: 43.0633 - val_loss: 49.5918\n",
      "Epoch 42/100\n",
      "41/41 [==============================] - 0s 7ms/step - loss: 41.5918 - val_loss: 47.4050\n",
      "Epoch 43/100\n",
      "41/41 [==============================] - 0s 7ms/step - loss: 42.2284 - val_loss: 46.2246\n",
      "Epoch 44/100\n",
      "41/41 [==============================] - 0s 8ms/step - loss: 41.7966 - val_loss: 47.1561\n",
      "Epoch 45/100\n",
      "41/41 [==============================] - 0s 9ms/step - loss: 40.0387 - val_loss: 47.1531\n",
      "Epoch 46/100\n",
      "41/41 [==============================] - 0s 8ms/step - loss: 42.9800 - val_loss: 64.4568\n",
      "Epoch 47/100\n",
      "41/41 [==============================] - 0s 7ms/step - loss: 45.8978 - val_loss: 46.7425\n",
      "Epoch 48/100\n",
      "41/41 [==============================] - 0s 7ms/step - loss: 46.8617 - val_loss: 76.6990\n",
      "Epoch 49/100\n",
      "41/41 [==============================] - 0s 6ms/step - loss: 42.3557 - val_loss: 52.5890\n",
      "Epoch 50/100\n",
      "41/41 [==============================] - 0s 8ms/step - loss: 42.7828 - val_loss: 46.0075\n",
      "Epoch 51/100\n",
      "41/41 [==============================] - 0s 6ms/step - loss: 49.4628 - val_loss: 110.7384\n",
      "Epoch 52/100\n",
      "41/41 [==============================] - 0s 7ms/step - loss: 52.5553 - val_loss: 45.2858\n",
      "Epoch 53/100\n",
      "41/41 [==============================] - 0s 7ms/step - loss: 41.5630 - val_loss: 52.7749\n",
      "Epoch 54/100\n",
      "41/41 [==============================] - 0s 6ms/step - loss: 45.1681 - val_loss: 55.2897\n",
      "Epoch 55/100\n",
      "41/41 [==============================] - 0s 6ms/step - loss: 41.9695 - val_loss: 44.7738\n",
      "Epoch 56/100\n",
      "41/41 [==============================] - 0s 6ms/step - loss: 39.3710 - val_loss: 42.9366\n",
      "Epoch 57/100\n",
      "41/41 [==============================] - 0s 6ms/step - loss: 40.8100 - val_loss: 45.3101\n",
      "Epoch 58/100\n",
      "41/41 [==============================] - 0s 7ms/step - loss: 43.4187 - val_loss: 60.0812\n",
      "Epoch 59/100\n",
      "41/41 [==============================] - 0s 6ms/step - loss: 47.0542 - val_loss: 42.9729\n",
      "Epoch 60/100\n",
      "41/41 [==============================] - 0s 6ms/step - loss: 40.9468 - val_loss: 47.4768\n",
      "Epoch 61/100\n",
      "41/41 [==============================] - 0s 6ms/step - loss: 39.7825 - val_loss: 44.3301\n",
      "Epoch 62/100\n",
      "41/41 [==============================] - 0s 7ms/step - loss: 39.4872 - val_loss: 43.3192\n",
      "Epoch 63/100\n",
      "41/41 [==============================] - 0s 7ms/step - loss: 37.0961 - val_loss: 41.2398\n",
      "Epoch 64/100\n",
      "41/41 [==============================] - 0s 6ms/step - loss: 36.4986 - val_loss: 42.2781\n",
      "Epoch 65/100\n",
      "41/41 [==============================] - 0s 6ms/step - loss: 39.5991 - val_loss: 40.8377\n",
      "Epoch 66/100\n",
      "41/41 [==============================] - 0s 7ms/step - loss: 36.1615 - val_loss: 50.1401\n",
      "Epoch 67/100\n",
      "41/41 [==============================] - 0s 7ms/step - loss: 37.0270 - val_loss: 43.6206\n",
      "Epoch 68/100\n",
      "41/41 [==============================] - 0s 7ms/step - loss: 37.8640 - val_loss: 39.8354\n",
      "Epoch 69/100\n",
      "41/41 [==============================] - 0s 7ms/step - loss: 36.7691 - val_loss: 39.5844\n",
      "Epoch 70/100\n",
      "41/41 [==============================] - 0s 6ms/step - loss: 35.6149 - val_loss: 42.9789\n",
      "Epoch 71/100\n",
      "41/41 [==============================] - 0s 6ms/step - loss: 35.6969 - val_loss: 39.7434\n",
      "Epoch 72/100\n",
      "41/41 [==============================] - 0s 6ms/step - loss: 36.9353 - val_loss: 39.9897\n",
      "Epoch 73/100\n",
      "41/41 [==============================] - 0s 6ms/step - loss: 34.0992 - val_loss: 39.9362\n",
      "Epoch 74/100\n",
      "41/41 [==============================] - 0s 6ms/step - loss: 36.2159 - val_loss: 44.6136\n",
      "Epoch 75/100\n",
      "41/41 [==============================] - 0s 6ms/step - loss: 33.7565 - val_loss: 37.7235\n",
      "Epoch 76/100\n",
      "41/41 [==============================] - 0s 6ms/step - loss: 34.6336 - val_loss: 49.8275\n",
      "Epoch 77/100\n",
      "41/41 [==============================] - 0s 7ms/step - loss: 40.0941 - val_loss: 41.5893\n",
      "Epoch 78/100\n",
      "41/41 [==============================] - 0s 7ms/step - loss: 34.4317 - val_loss: 57.0252\n",
      "Epoch 79/100\n",
      "41/41 [==============================] - 0s 7ms/step - loss: 33.4911 - val_loss: 37.5391\n",
      "Epoch 80/100\n",
      "41/41 [==============================] - 0s 7ms/step - loss: 34.5233 - val_loss: 36.6504\n",
      "Epoch 81/100\n",
      "41/41 [==============================] - 0s 9ms/step - loss: 35.6797 - val_loss: 41.6758\n",
      "Epoch 82/100\n",
      "41/41 [==============================] - 0s 11ms/step - loss: 33.0642 - val_loss: 49.2712\n",
      "Epoch 83/100\n",
      "41/41 [==============================] - 0s 7ms/step - loss: 34.4746 - val_loss: 38.5607\n",
      "Epoch 84/100\n",
      "41/41 [==============================] - 0s 7ms/step - loss: 38.4586 - val_loss: 40.7519\n",
      "Epoch 85/100\n",
      "41/41 [==============================] - 0s 8ms/step - loss: 32.6423 - val_loss: 37.8721\n",
      "Epoch 86/100\n",
      "41/41 [==============================] - 0s 7ms/step - loss: 30.8751 - val_loss: 35.0246\n",
      "Epoch 87/100\n",
      "41/41 [==============================] - 0s 7ms/step - loss: 33.0789 - val_loss: 41.9611\n",
      "Epoch 88/100\n",
      "41/41 [==============================] - 0s 7ms/step - loss: 35.1227 - val_loss: 42.8386\n",
      "Epoch 89/100\n",
      "41/41 [==============================] - 0s 6ms/step - loss: 34.4299 - val_loss: 34.8804\n",
      "Epoch 90/100\n",
      "41/41 [==============================] - 0s 7ms/step - loss: 33.4269 - val_loss: 40.4539\n",
      "Epoch 91/100\n",
      "41/41 [==============================] - 0s 7ms/step - loss: 31.9251 - val_loss: 44.4954\n",
      "Epoch 92/100\n",
      "41/41 [==============================] - 0s 7ms/step - loss: 31.1280 - val_loss: 37.2753\n",
      "Epoch 93/100\n",
      "41/41 [==============================] - 0s 7ms/step - loss: 31.7955 - val_loss: 33.1117\n",
      "Epoch 94/100\n",
      "41/41 [==============================] - 0s 9ms/step - loss: 31.1017 - val_loss: 38.6505\n",
      "Epoch 95/100\n",
      "41/41 [==============================] - 0s 6ms/step - loss: 30.3401 - val_loss: 32.2569\n",
      "Epoch 96/100\n",
      "41/41 [==============================] - 0s 6ms/step - loss: 31.5155 - val_loss: 36.1951\n",
      "Epoch 97/100\n",
      "41/41 [==============================] - 0s 6ms/step - loss: 39.1043 - val_loss: 40.6227\n",
      "Epoch 98/100\n",
      "41/41 [==============================] - 0s 6ms/step - loss: 30.2431 - val_loss: 32.5075\n",
      "Epoch 99/100\n",
      "41/41 [==============================] - 0s 7ms/step - loss: 28.9934 - val_loss: 33.5456\n",
      "Epoch 100/100\n",
      "41/41 [==============================] - 0s 7ms/step - loss: 30.0482 - val_loss: 31.8714\n"
     ]
    }
   ],
   "source": [
    "history = model.fit(X_train, y_train, epochs=100, batch_size=32, validation_split=0.2)"
   ]
  },
  {
   "cell_type": "code",
   "execution_count": 9,
   "metadata": {},
   "outputs": [
    {
     "name": "stdout",
     "output_type": "stream",
     "text": [
      "13/13 [==============================] - 0s 3ms/step - loss: 27.5443\n",
      "Test Loss: 27.54433822631836\n"
     ]
    }
   ],
   "source": [
    "test_loss = model.evaluate(X_test, y_test)\n",
    "print(f\"Test Loss: {test_loss}\")"
   ]
  },
  {
   "cell_type": "code",
   "execution_count": 10,
   "metadata": {},
   "outputs": [
    {
     "name": "stdout",
     "output_type": "stream",
     "text": [
      "13/13 [==============================] - 0s 3ms/step\n"
     ]
    }
   ],
   "source": [
    "y_pred = model.predict(X_test)"
   ]
  },
  {
   "cell_type": "code",
   "execution_count": 11,
   "metadata": {},
   "outputs": [
    {
     "name": "stdout",
     "output_type": "stream",
     "text": [
      "INFO:tensorflow:Assets written to: C:\\Users\\RYZEN-5\\AppData\\Local\\Temp\\tmp6y17lg7a\\assets\n"
     ]
    },
    {
     "name": "stderr",
     "output_type": "stream",
     "text": [
      "INFO:tensorflow:Assets written to: C:\\Users\\RYZEN-5\\AppData\\Local\\Temp\\tmp6y17lg7a\\assets\n"
     ]
    },
    {
     "name": "stdout",
     "output_type": "stream",
     "text": [
      "TensorFlow Lite model saved successfully.\n"
     ]
    }
   ],
   "source": [
    "converter = tf.lite.TFLiteConverter.from_keras_model(model)\n",
    "tflite_model = converter.convert()\n",
    "\n",
    "with open('efficiency.tflite', 'wb') as f:\n",
    "    f.write(tflite_model)\n",
    "\n",
    "print(\"TensorFlow Lite model saved successfully.\")"
   ]
  },
  {
   "cell_type": "code",
   "execution_count": 13,
   "metadata": {},
   "outputs": [],
   "source": [
    "interpreter = tf.lite.Interpreter(model_path=\"efficiency.tflite\")\n",
    "interpreter.allocate_tensors()"
   ]
  },
  {
   "cell_type": "code",
   "execution_count": 14,
   "metadata": {},
   "outputs": [],
   "source": [
    "input_details = interpreter.get_input_details()\n",
    "output_details = interpreter.get_output_details()"
   ]
  },
  {
   "cell_type": "code",
   "execution_count": 15,
   "metadata": {},
   "outputs": [],
   "source": [
    "X_test = X_test.astype(np.float32)"
   ]
  },
  {
   "cell_type": "code",
   "execution_count": 16,
   "metadata": {},
   "outputs": [],
   "source": [
    "y_pred_tflite = []\n",
    "for i in range(len(X_test)):\n",
    "    interpreter.set_tensor(input_details[0]['index'], [X_test[i]])\n",
    "    interpreter.invoke()\n",
    "    output_data = interpreter.get_tensor(output_details[0]['index'])\n",
    "    y_pred_tflite.append(output_data[0])"
   ]
  },
  {
   "cell_type": "code",
   "execution_count": 17,
   "metadata": {},
   "outputs": [],
   "source": [
    "y_pred_tflite = np.array(y_pred_tflite)"
   ]
  },
  {
   "cell_type": "code",
   "execution_count": 19,
   "metadata": {},
   "outputs": [
    {
     "name": "stdout",
     "output_type": "stream",
     "text": [
      "Mean Squared Error: 27.544335668842397\n",
      "Mean Absolute Error: 4.415082051444348\n"
     ]
    }
   ],
   "source": [
    "from sklearn.metrics import mean_squared_error, mean_absolute_error\n",
    "mse = mean_squared_error(y_test, y_pred_tflite)\n",
    "mae = mean_absolute_error(y_test, y_pred_tflite)\n",
    "\n",
    "print(f\"Mean Squared Error: {mse}\")\n",
    "print(f\"Mean Absolute Error: {mae}\")"
   ]
  }
 ],
 "metadata": {
  "kernelspec": {
   "display_name": "Python 3",
   "language": "python",
   "name": "python3"
  },
  "language_info": {
   "codemirror_mode": {
    "name": "ipython",
    "version": 3
   },
   "file_extension": ".py",
   "mimetype": "text/x-python",
   "name": "python",
   "nbconvert_exporter": "python",
   "pygments_lexer": "ipython3",
   "version": "3.11.9"
  }
 },
 "nbformat": 4,
 "nbformat_minor": 2
}
