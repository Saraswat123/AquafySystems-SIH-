{
 "cells": [
  {
   "cell_type": "code",
   "execution_count": 1,
   "metadata": {},
   "outputs": [
    {
     "name": "stdout",
     "output_type": "stream",
     "text": [
      "WARNING:tensorflow:From C:\\Users\\RYZEN-5\\AppData\\Roaming\\Python\\Python311\\site-packages\\keras\\src\\losses.py:2976: The name tf.losses.sparse_softmax_cross_entropy is deprecated. Please use tf.compat.v1.losses.sparse_softmax_cross_entropy instead.\n",
      "\n"
     ]
    }
   ],
   "source": [
    "import tensorflow as tf\n",
    "from sklearn.model_selection import train_test_split\n",
    "import numpy as np\n",
    "import pandas as pd"
   ]
  },
  {
   "cell_type": "code",
   "execution_count": 2,
   "metadata": {},
   "outputs": [],
   "source": [
    "df = pd.read_csv('grey_water_management.csv')"
   ]
  },
  {
   "cell_type": "code",
   "execution_count": 3,
   "metadata": {},
   "outputs": [],
   "source": [
    "X = df[['TDS (mg/l)', 'Turbidity (NTU)', 'pH', 'Depth (m)', 'Flow Discharge (L/min)']].values\n",
    "y = df['Filter Life Span (hours)'].values"
   ]
  },
  {
   "cell_type": "code",
   "execution_count": 4,
   "metadata": {},
   "outputs": [],
   "source": [
    "X_train, X_test, y_train, y_test = train_test_split(X, y, test_size=0.2, random_state=42)"
   ]
  },
  {
   "cell_type": "code",
   "execution_count": 5,
   "metadata": {},
   "outputs": [
    {
     "name": "stdout",
     "output_type": "stream",
     "text": [
      "WARNING:tensorflow:From C:\\Users\\RYZEN-5\\AppData\\Roaming\\Python\\Python311\\site-packages\\keras\\src\\backend.py:873: The name tf.get_default_graph is deprecated. Please use tf.compat.v1.get_default_graph instead.\n",
      "\n"
     ]
    }
   ],
   "source": [
    "model = tf.keras.Sequential([\n",
    "    tf.keras.layers.Dense(64, activation='relu', input_shape=(X_train.shape[1],)),\n",
    "    tf.keras.layers.Dense(128, activation='relu'),\n",
    "    tf.keras.layers.Dense(64, activation='relu'),    \n",
    "    tf.keras.layers.Dense(32, activation='relu'), \n",
    "    tf.keras.layers.Dense(16, activation='relu'),   \n",
    "    tf.keras.layers.Dense(1)  \n",
    "])"
   ]
  },
  {
   "cell_type": "code",
   "execution_count": 6,
   "metadata": {},
   "outputs": [
    {
     "name": "stdout",
     "output_type": "stream",
     "text": [
      "WARNING:tensorflow:From C:\\Users\\RYZEN-5\\AppData\\Roaming\\Python\\Python311\\site-packages\\keras\\src\\optimizers\\__init__.py:309: The name tf.train.Optimizer is deprecated. Please use tf.compat.v1.train.Optimizer instead.\n",
      "\n"
     ]
    }
   ],
   "source": [
    "model.compile(optimizer='adam', loss='mean_squared_error')"
   ]
  },
  {
   "cell_type": "code",
   "execution_count": 17,
   "metadata": {},
   "outputs": [
    {
     "name": "stdout",
     "output_type": "stream",
     "text": [
      "Epoch 1/100\n",
      "41/41 [==============================] - 1s 13ms/step - loss: 72328.3359 - val_loss: 105097.5312\n",
      "Epoch 2/100\n",
      "41/41 [==============================] - 0s 7ms/step - loss: 73825.7500 - val_loss: 78398.2656\n",
      "Epoch 3/100\n",
      "41/41 [==============================] - 0s 7ms/step - loss: 75000.6641 - val_loss: 89838.8125\n",
      "Epoch 4/100\n",
      "41/41 [==============================] - 0s 8ms/step - loss: 82296.6172 - val_loss: 95839.7812\n",
      "Epoch 5/100\n",
      "41/41 [==============================] - 0s 7ms/step - loss: 76903.9844 - val_loss: 74132.9062\n",
      "Epoch 6/100\n",
      "41/41 [==============================] - 0s 7ms/step - loss: 68887.5156 - val_loss: 72912.2188\n",
      "Epoch 7/100\n",
      "41/41 [==============================] - 0s 7ms/step - loss: 67146.6562 - val_loss: 72846.7500\n",
      "Epoch 8/100\n",
      "41/41 [==============================] - 0s 7ms/step - loss: 69803.8984 - val_loss: 90476.7344\n",
      "Epoch 9/100\n",
      "41/41 [==============================] - 0s 7ms/step - loss: 71459.7578 - val_loss: 74044.1484\n",
      "Epoch 10/100\n",
      "41/41 [==============================] - 0s 7ms/step - loss: 66661.1641 - val_loss: 73172.5312\n",
      "Epoch 11/100\n",
      "41/41 [==============================] - 0s 7ms/step - loss: 66724.2031 - val_loss: 72917.9219\n",
      "Epoch 12/100\n",
      "41/41 [==============================] - 0s 7ms/step - loss: 66930.3594 - val_loss: 70107.0859\n",
      "Epoch 13/100\n",
      "41/41 [==============================] - 0s 7ms/step - loss: 66542.0859 - val_loss: 68932.0703\n",
      "Epoch 14/100\n",
      "41/41 [==============================] - 0s 7ms/step - loss: 65881.7109 - val_loss: 83732.5156\n",
      "Epoch 15/100\n",
      "41/41 [==============================] - 0s 7ms/step - loss: 69163.3672 - val_loss: 103638.7812\n",
      "Epoch 16/100\n",
      "41/41 [==============================] - 0s 7ms/step - loss: 70468.3281 - val_loss: 69162.2891\n",
      "Epoch 17/100\n",
      "41/41 [==============================] - 0s 7ms/step - loss: 62263.9180 - val_loss: 67129.6562\n",
      "Epoch 18/100\n",
      "41/41 [==============================] - 0s 7ms/step - loss: 63632.1836 - val_loss: 69901.7500\n",
      "Epoch 19/100\n",
      "41/41 [==============================] - 0s 7ms/step - loss: 76412.8281 - val_loss: 66227.0312\n",
      "Epoch 20/100\n",
      "41/41 [==============================] - 0s 7ms/step - loss: 62796.6992 - val_loss: 74633.3516\n",
      "Epoch 21/100\n",
      "41/41 [==============================] - 0s 7ms/step - loss: 65415.9062 - val_loss: 70235.0625\n",
      "Epoch 22/100\n",
      "41/41 [==============================] - 0s 7ms/step - loss: 63542.3398 - val_loss: 92042.3672\n",
      "Epoch 23/100\n",
      "41/41 [==============================] - 0s 7ms/step - loss: 62563.7070 - val_loss: 69138.3672\n",
      "Epoch 24/100\n",
      "41/41 [==============================] - 0s 7ms/step - loss: 58288.7148 - val_loss: 66575.8281\n",
      "Epoch 25/100\n",
      "41/41 [==============================] - 0s 9ms/step - loss: 61314.0820 - val_loss: 68217.3047\n",
      "Epoch 26/100\n",
      "41/41 [==============================] - 0s 7ms/step - loss: 57556.7461 - val_loss: 70981.8125\n",
      "Epoch 27/100\n",
      "41/41 [==============================] - 0s 7ms/step - loss: 56345.6055 - val_loss: 66777.4844\n",
      "Epoch 28/100\n",
      "41/41 [==============================] - 0s 7ms/step - loss: 58606.8867 - val_loss: 64766.3945\n",
      "Epoch 29/100\n",
      "41/41 [==============================] - 0s 7ms/step - loss: 59972.3906 - val_loss: 60639.7344\n",
      "Epoch 30/100\n",
      "41/41 [==============================] - 0s 6ms/step - loss: 56417.6758 - val_loss: 92262.6797\n",
      "Epoch 31/100\n",
      "41/41 [==============================] - 0s 7ms/step - loss: 55985.6602 - val_loss: 65241.6094\n",
      "Epoch 32/100\n",
      "41/41 [==============================] - 0s 7ms/step - loss: 57859.9727 - val_loss: 59801.0508\n",
      "Epoch 33/100\n",
      "41/41 [==============================] - 0s 7ms/step - loss: 57742.7695 - val_loss: 59200.2539\n",
      "Epoch 34/100\n",
      "41/41 [==============================] - 0s 7ms/step - loss: 54628.6836 - val_loss: 60217.9023\n",
      "Epoch 35/100\n",
      "41/41 [==============================] - 0s 7ms/step - loss: 61190.2227 - val_loss: 97570.8828\n",
      "Epoch 36/100\n",
      "41/41 [==============================] - 0s 7ms/step - loss: 64798.3633 - val_loss: 66153.2188\n",
      "Epoch 37/100\n",
      "41/41 [==============================] - 0s 7ms/step - loss: 51138.4219 - val_loss: 56387.2969\n",
      "Epoch 38/100\n",
      "41/41 [==============================] - 0s 7ms/step - loss: 52856.7109 - val_loss: 55143.8711\n",
      "Epoch 39/100\n",
      "41/41 [==============================] - 0s 7ms/step - loss: 51804.4805 - val_loss: 73180.2734\n",
      "Epoch 40/100\n",
      "41/41 [==============================] - 0s 7ms/step - loss: 54765.9297 - val_loss: 62959.5430\n",
      "Epoch 41/100\n",
      "41/41 [==============================] - 0s 7ms/step - loss: 63131.1523 - val_loss: 53982.5938\n",
      "Epoch 42/100\n",
      "41/41 [==============================] - 0s 7ms/step - loss: 57131.9102 - val_loss: 55392.6719\n",
      "Epoch 43/100\n",
      "41/41 [==============================] - 0s 7ms/step - loss: 51799.0664 - val_loss: 53018.6406\n",
      "Epoch 44/100\n",
      "41/41 [==============================] - 0s 7ms/step - loss: 53346.4727 - val_loss: 52905.5195\n",
      "Epoch 45/100\n",
      "41/41 [==============================] - 0s 7ms/step - loss: 48386.9570 - val_loss: 66668.1016\n",
      "Epoch 46/100\n",
      "41/41 [==============================] - 0s 7ms/step - loss: 47036.5234 - val_loss: 50382.5000\n",
      "Epoch 47/100\n",
      "41/41 [==============================] - 0s 7ms/step - loss: 47214.3828 - val_loss: 50197.1406\n",
      "Epoch 48/100\n",
      "41/41 [==============================] - 0s 7ms/step - loss: 49526.9531 - val_loss: 49435.6250\n",
      "Epoch 49/100\n",
      "41/41 [==============================] - 0s 7ms/step - loss: 45464.0977 - val_loss: 75911.0703\n",
      "Epoch 50/100\n",
      "41/41 [==============================] - 0s 7ms/step - loss: 59576.6914 - val_loss: 53943.1406\n",
      "Epoch 51/100\n",
      "41/41 [==============================] - 0s 7ms/step - loss: 44546.1836 - val_loss: 48327.4219\n",
      "Epoch 52/100\n",
      "41/41 [==============================] - 0s 7ms/step - loss: 49794.9805 - val_loss: 60944.9492\n",
      "Epoch 53/100\n",
      "41/41 [==============================] - 0s 7ms/step - loss: 45877.9258 - val_loss: 47987.6055\n",
      "Epoch 54/100\n",
      "41/41 [==============================] - 0s 7ms/step - loss: 45581.0273 - val_loss: 46068.1172\n",
      "Epoch 55/100\n",
      "41/41 [==============================] - 0s 7ms/step - loss: 45280.6484 - val_loss: 49706.3438\n",
      "Epoch 56/100\n",
      "41/41 [==============================] - 0s 7ms/step - loss: 43186.2656 - val_loss: 52773.2148\n",
      "Epoch 57/100\n",
      "41/41 [==============================] - 0s 7ms/step - loss: 41864.8047 - val_loss: 57230.8633\n",
      "Epoch 58/100\n",
      "41/41 [==============================] - 0s 7ms/step - loss: 50138.0039 - val_loss: 48986.4180\n",
      "Epoch 59/100\n",
      "41/41 [==============================] - 0s 7ms/step - loss: 46477.3828 - val_loss: 42249.1797\n",
      "Epoch 60/100\n",
      "41/41 [==============================] - 0s 7ms/step - loss: 37293.1172 - val_loss: 41390.1992\n",
      "Epoch 61/100\n",
      "41/41 [==============================] - 0s 8ms/step - loss: 38980.3438 - val_loss: 66905.2812\n",
      "Epoch 62/100\n",
      "41/41 [==============================] - 0s 7ms/step - loss: 38603.2422 - val_loss: 42883.1094\n",
      "Epoch 63/100\n",
      "41/41 [==============================] - 0s 7ms/step - loss: 42653.8125 - val_loss: 45736.7930\n",
      "Epoch 64/100\n",
      "41/41 [==============================] - 0s 7ms/step - loss: 37271.1484 - val_loss: 39644.5859\n",
      "Epoch 65/100\n",
      "41/41 [==============================] - 0s 7ms/step - loss: 36361.5078 - val_loss: 39526.3398\n",
      "Epoch 66/100\n",
      "41/41 [==============================] - 0s 7ms/step - loss: 36696.9062 - val_loss: 38448.8008\n",
      "Epoch 67/100\n",
      "41/41 [==============================] - 0s 7ms/step - loss: 35833.2930 - val_loss: 38741.2461\n",
      "Epoch 68/100\n",
      "41/41 [==============================] - 0s 7ms/step - loss: 36906.6289 - val_loss: 42771.6484\n",
      "Epoch 69/100\n",
      "41/41 [==============================] - 0s 7ms/step - loss: 36780.8945 - val_loss: 39178.0859\n",
      "Epoch 70/100\n",
      "41/41 [==============================] - 0s 7ms/step - loss: 33045.1797 - val_loss: 34405.9180\n",
      "Epoch 71/100\n",
      "41/41 [==============================] - 0s 7ms/step - loss: 35303.1797 - val_loss: 58984.9141\n",
      "Epoch 72/100\n",
      "41/41 [==============================] - 0s 7ms/step - loss: 42260.1094 - val_loss: 39274.3438\n",
      "Epoch 73/100\n",
      "41/41 [==============================] - 0s 7ms/step - loss: 29491.2207 - val_loss: 33056.8945\n",
      "Epoch 74/100\n",
      "41/41 [==============================] - 0s 7ms/step - loss: 30363.2578 - val_loss: 32063.5273\n",
      "Epoch 75/100\n",
      "41/41 [==============================] - 0s 7ms/step - loss: 30720.9980 - val_loss: 32874.1836\n",
      "Epoch 76/100\n",
      "41/41 [==============================] - 0s 7ms/step - loss: 29096.7344 - val_loss: 31472.8867\n",
      "Epoch 77/100\n",
      "41/41 [==============================] - 0s 7ms/step - loss: 27271.5684 - val_loss: 38740.1289\n",
      "Epoch 78/100\n",
      "41/41 [==============================] - 0s 10ms/step - loss: 27787.8926 - val_loss: 34365.3516\n",
      "Epoch 79/100\n",
      "41/41 [==============================] - 0s 7ms/step - loss: 27315.2441 - val_loss: 32737.9453\n",
      "Epoch 80/100\n",
      "41/41 [==============================] - 0s 7ms/step - loss: 29409.6348 - val_loss: 33946.0078\n",
      "Epoch 81/100\n",
      "41/41 [==============================] - 0s 7ms/step - loss: 27238.0508 - val_loss: 38434.6172\n",
      "Epoch 82/100\n",
      "41/41 [==============================] - 0s 7ms/step - loss: 30825.7676 - val_loss: 26546.8828\n",
      "Epoch 83/100\n",
      "41/41 [==============================] - 0s 7ms/step - loss: 23713.1875 - val_loss: 26380.1797\n",
      "Epoch 84/100\n",
      "41/41 [==============================] - 0s 7ms/step - loss: 22774.4297 - val_loss: 25369.1016\n",
      "Epoch 85/100\n",
      "41/41 [==============================] - 0s 7ms/step - loss: 22486.0234 - val_loss: 23603.6328\n",
      "Epoch 86/100\n",
      "41/41 [==============================] - 0s 8ms/step - loss: 29504.4082 - val_loss: 30979.1230\n",
      "Epoch 87/100\n",
      "41/41 [==============================] - 0s 7ms/step - loss: 21532.3438 - val_loss: 26376.3574\n",
      "Epoch 88/100\n",
      "41/41 [==============================] - 0s 7ms/step - loss: 22784.5195 - val_loss: 23291.4395\n",
      "Epoch 89/100\n",
      "41/41 [==============================] - 0s 7ms/step - loss: 20859.1914 - val_loss: 21444.0312\n",
      "Epoch 90/100\n",
      "41/41 [==============================] - 0s 7ms/step - loss: 30422.0547 - val_loss: 58043.1836\n",
      "Epoch 91/100\n",
      "41/41 [==============================] - 0s 7ms/step - loss: 24172.3184 - val_loss: 23573.5254\n",
      "Epoch 92/100\n",
      "41/41 [==============================] - 0s 6ms/step - loss: 19234.6270 - val_loss: 19738.4004\n",
      "Epoch 93/100\n",
      "41/41 [==============================] - 0s 7ms/step - loss: 16300.4619 - val_loss: 18478.5977\n",
      "Epoch 94/100\n",
      "41/41 [==============================] - 0s 7ms/step - loss: 16357.2988 - val_loss: 18689.2324\n",
      "Epoch 95/100\n",
      "41/41 [==============================] - 0s 7ms/step - loss: 15103.7422 - val_loss: 17774.5547\n",
      "Epoch 96/100\n",
      "41/41 [==============================] - 0s 7ms/step - loss: 15037.4980 - val_loss: 16842.0391\n",
      "Epoch 97/100\n",
      "41/41 [==============================] - 0s 7ms/step - loss: 18034.3320 - val_loss: 20366.0723\n",
      "Epoch 98/100\n",
      "41/41 [==============================] - 0s 7ms/step - loss: 18593.9590 - val_loss: 17793.8945\n",
      "Epoch 99/100\n",
      "41/41 [==============================] - 0s 7ms/step - loss: 16969.1367 - val_loss: 16716.1406\n",
      "Epoch 100/100\n",
      "41/41 [==============================] - 0s 7ms/step - loss: 19170.6074 - val_loss: 16515.5547\n"
     ]
    }
   ],
   "source": [
    "history = model.fit(X_train, y_train, epochs=100, batch_size=32, validation_split=0.2)"
   ]
  },
  {
   "cell_type": "code",
   "execution_count": 18,
   "metadata": {},
   "outputs": [
    {
     "name": "stdout",
     "output_type": "stream",
     "text": [
      "13/13 [==============================] - 0s 4ms/step - loss: 15403.7588\n",
      "Test Loss: 15403.7587890625\n"
     ]
    }
   ],
   "source": [
    "test_loss = model.evaluate(X_test, y_test)\n",
    "print(f\"Test Loss: {test_loss}\")"
   ]
  },
  {
   "cell_type": "code",
   "execution_count": 19,
   "metadata": {},
   "outputs": [
    {
     "name": "stdout",
     "output_type": "stream",
     "text": [
      "13/13 [==============================] - 0s 3ms/step\n"
     ]
    }
   ],
   "source": [
    "y_pred = model.predict(X_test)"
   ]
  },
  {
   "cell_type": "code",
   "execution_count": 20,
   "metadata": {},
   "outputs": [
    {
     "name": "stdout",
     "output_type": "stream",
     "text": [
      "INFO:tensorflow:Assets written to: C:\\Users\\RYZEN-5\\AppData\\Local\\Temp\\tmp4jp3x8xo\\assets\n"
     ]
    },
    {
     "name": "stderr",
     "output_type": "stream",
     "text": [
      "INFO:tensorflow:Assets written to: C:\\Users\\RYZEN-5\\AppData\\Local\\Temp\\tmp4jp3x8xo\\assets\n"
     ]
    },
    {
     "name": "stdout",
     "output_type": "stream",
     "text": [
      "TensorFlow Lite model saved successfully.\n"
     ]
    }
   ],
   "source": [
    "converter = tf.lite.TFLiteConverter.from_keras_model(model)\n",
    "tflite_model = converter.convert()\n",
    "\n",
    "with open('lifespan.tflite', 'wb') as f:\n",
    "    f.write(tflite_model)\n",
    "\n",
    "print(\"TensorFlow Lite model saved successfully.\")"
   ]
  },
  {
   "cell_type": "code",
   "execution_count": 21,
   "metadata": {},
   "outputs": [],
   "source": [
    "interpreter = tf.lite.Interpreter(model_path=\"lifespan.tflite\")\n",
    "interpreter.allocate_tensors()"
   ]
  },
  {
   "cell_type": "code",
   "execution_count": 22,
   "metadata": {},
   "outputs": [],
   "source": [
    "input_details = interpreter.get_input_details()\n",
    "output_details = interpreter.get_output_details()"
   ]
  },
  {
   "cell_type": "code",
   "execution_count": 23,
   "metadata": {},
   "outputs": [],
   "source": [
    "X_test = X_test.astype(np.float32)"
   ]
  },
  {
   "cell_type": "code",
   "execution_count": 24,
   "metadata": {},
   "outputs": [],
   "source": [
    "y_pred_tflite = []\n",
    "for i in range(len(X_test)):\n",
    "    interpreter.set_tensor(input_details[0]['index'], [X_test[i]])\n",
    "    interpreter.invoke()\n",
    "    output_data = interpreter.get_tensor(output_details[0]['index'])\n",
    "    y_pred_tflite.append(output_data[0])"
   ]
  },
  {
   "cell_type": "code",
   "execution_count": 25,
   "metadata": {},
   "outputs": [],
   "source": [
    "y_pred_tflite = np.array(y_pred_tflite)"
   ]
  },
  {
   "cell_type": "code",
   "execution_count": 28,
   "metadata": {},
   "outputs": [
    {
     "name": "stdout",
     "output_type": "stream",
     "text": [
      "Mean Squared Error: 15403.758638611882\n",
      "Mean Absolute Error: 103.07312111786264\n"
     ]
    }
   ],
   "source": [
    "from sklearn.metrics import mean_squared_error, mean_absolute_error\n",
    "mse = mean_squared_error(y_test, y_pred_tflite)\n",
    "mae = mean_absolute_error(y_test, y_pred_tflite)\n",
    "\n",
    "print(f\"Mean Squared Error: {mse}\")\n",
    "print(f\"Mean Absolute Error: {mae}\")"
   ]
  }
 ],
 "metadata": {
  "kernelspec": {
   "display_name": "Python 3",
   "language": "python",
   "name": "python3"
  },
  "language_info": {
   "codemirror_mode": {
    "name": "ipython",
    "version": 3
   },
   "file_extension": ".py",
   "mimetype": "text/x-python",
   "name": "python",
   "nbconvert_exporter": "python",
   "pygments_lexer": "ipython3",
   "version": "3.11.9"
  }
 },
 "nbformat": 4,
 "nbformat_minor": 2
}
